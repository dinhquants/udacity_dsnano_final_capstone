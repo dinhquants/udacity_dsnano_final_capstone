{
 "cells": [
  {
   "cell_type": "markdown",
   "metadata": {},
   "source": [
    "# Sparkify Project Workspace\n",
    "This workspace contains a tiny subset (128MB) of the full dataset available (12GB). Feel free to use this workspace to build your project, or to explore a smaller subset with Spark before deploying your cluster on the cloud. Instructions for setting up your Spark cluster is included in the last lesson of the Extracurricular Spark Course content.\n",
    "\n",
    "You can follow the steps below to guide your data analysis and model building portion of this project."
   ]
  },
  {
   "cell_type": "code",
   "execution_count": 1,
   "metadata": {},
   "outputs": [],
   "source": [
    "# import libraries\n",
    "from pyspark.sql import SparkSession\n",
    "from pyspark.sql import functions as F\n",
    "from pyspark.sql.functions import *\n",
    "from pyspark.sql.types import *\n",
    "from pyspark.sql import Window\n",
    "\n",
    "from pyspark.ml import Pipeline\n",
    "from pyspark.ml.classification import LogisticRegression, GBTClassifier, RandomForestClassifier\n",
    "from pyspark.ml.evaluation import MulticlassClassificationEvaluator, BinaryClassificationEvaluator, RegressionEvaluator\n",
    "from pyspark.ml.feature import StandardScaler, StringIndexer, VectorAssembler\n",
    "from pyspark.ml.tuning import CrossValidator, ParamGridBuilder\n",
    "\n",
    "import re\n",
    "import datetime\n",
    "import pandas as pd\n",
    "import numpy as np\n",
    "import matplotlib.pyplot as plt\n",
    "import seaborn as sns\n",
    "\n",
    "%matplotlib inline"
   ]
  },
  {
   "cell_type": "code",
   "execution_count": 2,
   "metadata": {},
   "outputs": [],
   "source": [
    "# create a Spark session\n",
    "spark = SparkSession.builder \\\n",
    "        .master(\"local\") \\\n",
    "        .appName(\"Sparkify Project\") \\\n",
    "        .getOrCreate()"
   ]
  },
  {
   "cell_type": "markdown",
   "metadata": {},
   "source": [
    "# Load and Clean Dataset\n",
    "In this workspace, the mini-dataset file is `mini_sparkify_event_data.json`. Load and clean the dataset, checking for invalid or missing data - for example, records without userids or sessionids. "
   ]
  },
  {
   "cell_type": "markdown",
   "metadata": {},
   "source": [
    "### Load Dataset"
   ]
  },
  {
   "cell_type": "code",
   "execution_count": 3,
   "metadata": {},
   "outputs": [],
   "source": [
    "# read the data from the json file\n",
    "df_org = spark.read.json(\"mini_sparkify_event_data.json\")\n",
    "\n",
    "# using df to dicovery data\n",
    "df = df_org "
   ]
  },
  {
   "cell_type": "code",
   "execution_count": 4,
   "metadata": {},
   "outputs": [
    {
     "name": "stdout",
     "output_type": "stream",
     "text": [
      "+--------------------+---------+---------+------+-------------+--------+---------+-----+--------------------+------+---------------+-------------+---------+--------------------+------+-------------+--------------------+------+\n",
      "|              artist|     auth|firstName|gender|itemInSession|lastName|   length|level|            location|method|           page| registration|sessionId|                song|status|           ts|           userAgent|userId|\n",
      "+--------------------+---------+---------+------+-------------+--------+---------+-----+--------------------+------+---------------+-------------+---------+--------------------+------+-------------+--------------------+------+\n",
      "|      Martha Tilston|Logged In|    Colin|     M|           50| Freeman|277.89016| paid|     Bakersfield, CA|   PUT|       NextSong|1538173362000|       29|           Rockpools|   200|1538352117000|Mozilla/5.0 (Wind...|    30|\n",
      "|    Five Iron Frenzy|Logged In|    Micah|     M|           79|    Long|236.09424| free|Boston-Cambridge-...|   PUT|       NextSong|1538331630000|        8|              Canada|   200|1538352180000|\"Mozilla/5.0 (Win...|     9|\n",
      "|        Adam Lambert|Logged In|    Colin|     M|           51| Freeman| 282.8273| paid|     Bakersfield, CA|   PUT|       NextSong|1538173362000|       29|   Time For Miracles|   200|1538352394000|Mozilla/5.0 (Wind...|    30|\n",
      "|              Enigma|Logged In|    Micah|     M|           80|    Long|262.71302| free|Boston-Cambridge-...|   PUT|       NextSong|1538331630000|        8|Knocking On Forbi...|   200|1538352416000|\"Mozilla/5.0 (Win...|     9|\n",
      "|           Daft Punk|Logged In|    Colin|     M|           52| Freeman|223.60771| paid|     Bakersfield, CA|   PUT|       NextSong|1538173362000|       29|Harder Better Fas...|   200|1538352676000|Mozilla/5.0 (Wind...|    30|\n",
      "|The All-American ...|Logged In|    Micah|     M|           81|    Long|208.29995| free|Boston-Cambridge-...|   PUT|       NextSong|1538331630000|        8|      Don't Leave Me|   200|1538352678000|\"Mozilla/5.0 (Win...|     9|\n",
      "|The Velvet Underg...|Logged In|    Micah|     M|           82|    Long|260.46649| free|Boston-Cambridge-...|   PUT|       NextSong|1538331630000|        8|         Run Run Run|   200|1538352886000|\"Mozilla/5.0 (Win...|     9|\n",
      "|        Starflyer 59|Logged In|    Colin|     M|           53| Freeman|185.44281| paid|     Bakersfield, CA|   PUT|       NextSong|1538173362000|       29|Passengers (Old A...|   200|1538352899000|Mozilla/5.0 (Wind...|    30|\n",
      "|                null|Logged In|    Colin|     M|           54| Freeman|     null| paid|     Bakersfield, CA|   PUT|Add to Playlist|1538173362000|       29|                null|   200|1538352905000|Mozilla/5.0 (Wind...|    30|\n",
      "|            Frumpies|Logged In|    Colin|     M|           55| Freeman|134.47791| paid|     Bakersfield, CA|   PUT|       NextSong|1538173362000|       29|          Fuck Kitty|   200|1538353084000|Mozilla/5.0 (Wind...|    30|\n",
      "+--------------------+---------+---------+------+-------------+--------+---------+-----+--------------------+------+---------------+-------------+---------+--------------------+------+-------------+--------------------+------+\n",
      "only showing top 10 rows\n",
      "\n"
     ]
    }
   ],
   "source": [
    "df.show(10)"
   ]
  },
  {
   "cell_type": "code",
   "execution_count": 5,
   "metadata": {},
   "outputs": [
    {
     "name": "stdout",
     "output_type": "stream",
     "text": [
      "The number of rows in the dataframe: 286500\n",
      "The number of columns in the dataframe: 18\n"
     ]
    }
   ],
   "source": [
    "# number of rows and columns in the data\n",
    "print(\"The number of rows in the dataframe: {}\".format(df.count()))\n",
    "print(\"The number of columns in the dataframe: {}\".format(len(df.columns)))"
   ]
  },
  {
   "cell_type": "code",
   "execution_count": 6,
   "metadata": {},
   "outputs": [
    {
     "name": "stdout",
     "output_type": "stream",
     "text": [
      "root\n",
      " |-- artist: string (nullable = true)\n",
      " |-- auth: string (nullable = true)\n",
      " |-- firstName: string (nullable = true)\n",
      " |-- gender: string (nullable = true)\n",
      " |-- itemInSession: long (nullable = true)\n",
      " |-- lastName: string (nullable = true)\n",
      " |-- length: double (nullable = true)\n",
      " |-- level: string (nullable = true)\n",
      " |-- location: string (nullable = true)\n",
      " |-- method: string (nullable = true)\n",
      " |-- page: string (nullable = true)\n",
      " |-- registration: long (nullable = true)\n",
      " |-- sessionId: long (nullable = true)\n",
      " |-- song: string (nullable = true)\n",
      " |-- status: long (nullable = true)\n",
      " |-- ts: long (nullable = true)\n",
      " |-- userAgent: string (nullable = true)\n",
      " |-- userId: string (nullable = true)\n",
      "\n"
     ]
    }
   ],
   "source": [
    "# show the columns of the data\n",
    "df.printSchema()"
   ]
  },
  {
   "cell_type": "markdown",
   "metadata": {},
   "source": [
    "### Clean Dataset"
   ]
  },
  {
   "cell_type": "code",
   "execution_count": 7,
   "metadata": {},
   "outputs": [
    {
     "name": "stdout",
     "output_type": "stream",
     "text": [
      "+-------+------------------+----------+---------+------+------------------+--------+-----------------+------+-----------------+------+-------+--------------------+-----------------+--------------------+------------------+--------------------+--------------------+-----------------+\n",
      "|summary|            artist|      auth|firstName|gender|     itemInSession|lastName|           length| level|         location|method|   page|        registration|        sessionId|                song|            status|                  ts|           userAgent|           userId|\n",
      "+-------+------------------+----------+---------+------+------------------+--------+-----------------+------+-----------------+------+-------+--------------------+-----------------+--------------------+------------------+--------------------+--------------------+-----------------+\n",
      "|  count|            228108|    286500|   278154|278154|            286500|  278154|           228108|286500|           278154|286500| 286500|              278154|           286500|              228108|            286500|              286500|              278154|           286500|\n",
      "|   mean| 551.0852017937219|      null|     null|  null|114.41421291448516|    null|249.1171819778458|  null|             null|  null|   null|1.535358834084427...|1041.526554973822|            Infinity|210.05459685863875|1.540956889810483...|                null|59682.02278593872|\n",
      "| stddev|1217.7693079161374|      null|     null|  null|129.76726201140994|    null|99.23517921058361|  null|             null|  null|   null| 3.291321616327586E9|726.7762634630741|                 NaN| 31.50507848842214|1.5075439608226302E9|                null|109091.9499991047|\n",
      "|    min|               !!!| Cancelled| Adelaida|     F|                 0|   Adams|          0.78322|  free|       Albany, OR|   GET|  About|       1521380675000|                1|\u001c",
      "ÃÂg ÃÂtti Gr...|               200|       1538352117000|\"Mozilla/5.0 (Mac...|                 |\n",
      "|    max| ÃÂlafur Arnalds|Logged Out|   Zyonna|     M|              1321|  Wright|       3024.66567|  paid|Winston-Salem, NC|   PUT|Upgrade|       1543247354000|             2474|ÃÂau hafa slopp...|               404|       1543799476000|Mozilla/5.0 (comp...|               99|\n",
      "+-------+------------------+----------+---------+------+------------------+--------+-----------------+------+-----------------+------+-------+--------------------+-----------------+--------------------+------------------+--------------------+--------------------+-----------------+\n",
      "\n"
     ]
    }
   ],
   "source": [
    "df.describe().show()"
   ]
  },
  {
   "cell_type": "code",
   "execution_count": 8,
   "metadata": {},
   "outputs": [
    {
     "data": {
      "text/plain": [
       "286500"
      ]
     },
     "execution_count": 8,
     "metadata": {},
     "output_type": "execute_result"
    }
   ],
   "source": [
    "# clean null value of set data userId and sessionId.\n",
    "df = df.dropna(how='any', subset=['userId', 'sessionId'])\n",
    "df.count()"
   ]
  },
  {
   "cell_type": "markdown",
   "metadata": {},
   "source": [
    "↑It seems like there is no null value for userId and sessionId. Let's check these columns:"
   ]
  },
  {
   "cell_type": "code",
   "execution_count": 9,
   "metadata": {},
   "outputs": [
    {
     "name": "stdout",
     "output_type": "stream",
     "text": [
      "+------+----+---------+------+-------------+--------+------+-----+--------+------+----+------------+---------+-----+------+---+---------+------+\n",
      "|artist|auth|firstName|gender|itemInSession|lastName|length|level|location|method|page|registration|sessionId| song|status| ts|userAgent|userId|\n",
      "+------+----+---------+------+-------------+--------+------+-----+--------+------+----+------------+---------+-----+------+---+---------+------+\n",
      "| 58392|   0|     8346|  8346|            0|    8346| 58392|    0|    8346|     0|   0|        8346|        0|58392|     0|  0|     8346|     0|\n",
      "+------+----+---------+------+-------------+--------+------+-----+--------+------+----+------------+---------+-----+------+---+---------+------+\n",
      "\n"
     ]
    }
   ],
   "source": [
    "# check null value of all column\n",
    "df.select([F.count(F.when(F.col(c).isNull(), c)).alias(c) for c in df.columns]).show()"
   ]
  },
  {
   "cell_type": "code",
   "execution_count": 10,
   "metadata": {},
   "outputs": [
    {
     "name": "stdout",
     "output_type": "stream",
     "text": [
      "+------+----+---------+------+-------------+--------+------+-----+--------+------+----+------------+---------+----+------+---+---------+------+\n",
      "|artist|auth|firstName|gender|itemInSession|lastName|length|level|location|method|page|registration|sessionId|song|status| ts|userAgent|userId|\n",
      "+------+----+---------+------+-------------+--------+------+-----+--------+------+----+------------+---------+----+------+---+---------+------+\n",
      "|     0|   0|        0|     0|            0|       0|     0|    0|       0|     0|   0|           0|        0|   0|     0|  0|        0|  8346|\n",
      "+------+----+---------+------+-------------+--------+------+-----+--------+------+----+------------+---------+----+------+---+---------+------+\n",
      "\n"
     ]
    }
   ],
   "source": [
    "# check blank value of all column\n",
    "df.select([F.count(F.when(F.col(c) == \"\", c)).alias(c) for c in df.columns]).show()"
   ]
  },
  {
   "cell_type": "markdown",
   "metadata": {},
   "source": [
    "There are many records of userId which is a empty string. As empty userId means the user is not log in to the application, we don't need to keep these data as it does not relevant to customer churn."
   ]
  },
  {
   "cell_type": "code",
   "execution_count": 11,
   "metadata": {},
   "outputs": [
    {
     "data": {
      "text/plain": [
       "278154"
      ]
     },
     "execution_count": 11,
     "metadata": {},
     "output_type": "execute_result"
    }
   ],
   "source": [
    "df = df.filter(df[\"userId\"] != \"\")\n",
    "df.count()"
   ]
  },
  {
   "cell_type": "markdown",
   "metadata": {},
   "source": [
    "# Exploratory Data Analysis\n",
    "\n",
    "When you're working with the full dataset, perform EDA by loading a small subset of the data and doing basic manipulations within Spark. In this workspace, you are already provided a small subset of data you can explore.\n",
    "\n",
    "### Define Churn\n",
    "\n",
    "Once you've done some preliminary analysis, create a column `Churn` to use as the label for your model. I suggest using the `Cancellation Confirmation` events to define your churn, which happen for both paid and free users. As a bonus task, you can also look into the `Downgrade` events.\n",
    "\n",
    "### Explore Data\n",
    "\n",
    "Once you've defined churn, perform some exploratory data analysis to observe the behavior for users who stayed vs users who churned. You can start by exploring aggregates on these two groups of users, observing how much of a specific action they experienced per a certain time unit or number of songs played."
   ]
  },
  {
   "cell_type": "code",
   "execution_count": 12,
   "metadata": {
    "scrolled": true
   },
   "outputs": [
    {
     "name": "stdout",
     "output_type": "stream",
     "text": [
      "+----------------+---------+---------+------+-------------+--------+---------+-----+--------------------+------+--------+-------------+---------+--------------------+------+--------------------+------+-------------------+\n",
      "|          artist|     auth|firstName|gender|itemInSession|lastName|   length|level|            location|method|    page| registration|sessionId|                song|status|           userAgent|userId|           datetime|\n",
      "+----------------+---------+---------+------+-------------+--------+---------+-----+--------------------+------+--------+-------------+---------+--------------------+------+--------------------+------+-------------------+\n",
      "|  Martha Tilston|Logged In|    Colin|     M|           50| Freeman|277.89016| paid|     Bakersfield, CA|   PUT|NextSong|1538173362000|       29|           Rockpools|   200|Mozilla/5.0 (Wind...|    30|2018-10-01 00:01:57|\n",
      "|Five Iron Frenzy|Logged In|    Micah|     M|           79|    Long|236.09424| free|Boston-Cambridge-...|   PUT|NextSong|1538331630000|        8|              Canada|   200|\"Mozilla/5.0 (Win...|     9|2018-10-01 00:03:00|\n",
      "|    Adam Lambert|Logged In|    Colin|     M|           51| Freeman| 282.8273| paid|     Bakersfield, CA|   PUT|NextSong|1538173362000|       29|   Time For Miracles|   200|Mozilla/5.0 (Wind...|    30|2018-10-01 00:06:34|\n",
      "|          Enigma|Logged In|    Micah|     M|           80|    Long|262.71302| free|Boston-Cambridge-...|   PUT|NextSong|1538331630000|        8|Knocking On Forbi...|   200|\"Mozilla/5.0 (Win...|     9|2018-10-01 00:06:56|\n",
      "|       Daft Punk|Logged In|    Colin|     M|           52| Freeman|223.60771| paid|     Bakersfield, CA|   PUT|NextSong|1538173362000|       29|Harder Better Fas...|   200|Mozilla/5.0 (Wind...|    30|2018-10-01 00:11:16|\n",
      "+----------------+---------+---------+------+-------------+--------+---------+-----+--------------------+------+--------+-------------+---------+--------------------+------+--------------------+------+-------------------+\n",
      "only showing top 5 rows\n",
      "\n"
     ]
    }
   ],
   "source": [
    "# udf to convert the ts to timestamp\n",
    "get_timestamp = udf(lambda x : datetime.datetime.fromtimestamp(x/ 1000.0).strftime(\"%Y-%m-%d %H:%M:%S\"))\n",
    "\n",
    "# apply this udf in the dataframe with your timestamp\n",
    "df = df.withColumn(\"datetime\", get_timestamp(df.ts))\n",
    "\n",
    "# drop the ts column\n",
    "df = df.drop(\"ts\")\n",
    "\n",
    "df.show(5)"
   ]
  },
  {
   "cell_type": "markdown",
   "metadata": {},
   "source": [
    "### Define Churn\n",
    "We create a churn column and set it as 1 if user has a session that contains \"cancellation confirmation\" page type.\n",
    "\n"
   ]
  },
  {
   "cell_type": "code",
   "execution_count": 13,
   "metadata": {},
   "outputs": [],
   "source": [
    "df = df.withColumn(\n",
    "    \"Churn\",\n",
    "    F.when(F.col(\"page\") == \"Cancellation Confirmation\", 1).otherwise(0)\n",
    ")"
   ]
  },
  {
   "cell_type": "code",
   "execution_count": 14,
   "metadata": {},
   "outputs": [
    {
     "name": "stdout",
     "output_type": "stream",
     "text": [
      "+----------------+---------+---------+------+-------------+--------+---------+-----+--------------------+------+--------+-------------+---------+--------------------+------+--------------------+------+-------------------+-----+\n",
      "|          artist|     auth|firstName|gender|itemInSession|lastName|   length|level|            location|method|    page| registration|sessionId|                song|status|           userAgent|userId|           datetime|Churn|\n",
      "+----------------+---------+---------+------+-------------+--------+---------+-----+--------------------+------+--------+-------------+---------+--------------------+------+--------------------+------+-------------------+-----+\n",
      "|  Martha Tilston|Logged In|    Colin|     M|           50| Freeman|277.89016| paid|     Bakersfield, CA|   PUT|NextSong|1538173362000|       29|           Rockpools|   200|Mozilla/5.0 (Wind...|    30|2018-10-01 00:01:57|    0|\n",
      "|Five Iron Frenzy|Logged In|    Micah|     M|           79|    Long|236.09424| free|Boston-Cambridge-...|   PUT|NextSong|1538331630000|        8|              Canada|   200|\"Mozilla/5.0 (Win...|     9|2018-10-01 00:03:00|    0|\n",
      "|    Adam Lambert|Logged In|    Colin|     M|           51| Freeman| 282.8273| paid|     Bakersfield, CA|   PUT|NextSong|1538173362000|       29|   Time For Miracles|   200|Mozilla/5.0 (Wind...|    30|2018-10-01 00:06:34|    0|\n",
      "|          Enigma|Logged In|    Micah|     M|           80|    Long|262.71302| free|Boston-Cambridge-...|   PUT|NextSong|1538331630000|        8|Knocking On Forbi...|   200|\"Mozilla/5.0 (Win...|     9|2018-10-01 00:06:56|    0|\n",
      "|       Daft Punk|Logged In|    Colin|     M|           52| Freeman|223.60771| paid|     Bakersfield, CA|   PUT|NextSong|1538173362000|       29|Harder Better Fas...|   200|Mozilla/5.0 (Wind...|    30|2018-10-01 00:11:16|    0|\n",
      "+----------------+---------+---------+------+-------------+--------+---------+-----+--------------------+------+--------+-------------+---------+--------------------+------+--------------------+------+-------------------+-----+\n",
      "only showing top 5 rows\n",
      "\n"
     ]
    }
   ],
   "source": [
    "df.show(5)"
   ]
  },
  {
   "cell_type": "markdown",
   "metadata": {},
   "source": [
    "### Explorer Data"
   ]
  },
  {
   "cell_type": "markdown",
   "metadata": {},
   "source": [
    "To understand the data we should try to answer below question:\n",
    "\n",
    "- Difference between \"free\" and \"paid\" users in churn rate?\n",
    "- What difference between \"F\" and \"M\" users in churn rate?\n",
    "- What time in a day/month does the user cancel the subscription highest?\n",
    "- Does a user who is not very active result in cancellation?\n",
    "- Does the user still use Sparkify after canceling the subscription?"
   ]
  },
  {
   "cell_type": "code",
   "execution_count": 15,
   "metadata": {},
   "outputs": [
    {
     "name": "stdout",
     "output_type": "stream",
     "text": [
      "+-----+------+\n",
      "|Churn| count|\n",
      "+-----+------+\n",
      "|    1|    52|\n",
      "|    0|278102|\n",
      "+-----+------+\n",
      "\n"
     ]
    }
   ],
   "source": [
    "df.groupBy(\"Churn\").count().show()"
   ]
  },
  {
   "cell_type": "code",
   "execution_count": 16,
   "metadata": {},
   "outputs": [
    {
     "data": {
      "text/plain": [
       "225"
      ]
     },
     "execution_count": 16,
     "metadata": {},
     "output_type": "execute_result"
    }
   ],
   "source": [
    "# count quantity of users\n",
    "df.select('userId').distinct().count()"
   ]
  },
  {
   "cell_type": "markdown",
   "metadata": {},
   "source": [
    "#### Difference between \"free\" and \"paid\" users in churn rate"
   ]
  },
  {
   "cell_type": "code",
   "execution_count": 17,
   "metadata": {},
   "outputs": [],
   "source": [
    "# create level df to check free and paid \n",
    "df_level = df.select(\"userId\", 'level', 'Churn').distinct()"
   ]
  },
  {
   "cell_type": "code",
   "execution_count": 18,
   "metadata": {},
   "outputs": [
    {
     "data": {
      "image/png": "[encoded data removed]",
      "text/plain": [
       "<matplotlib.figure.Figure at 0x7fdbf6b4c7f0>"
      ]
     },
     "metadata": {
      "needs_background": "light"
     },
     "output_type": "display_data"
    }
   ],
   "source": [
    "df_pd_level = df_level.select('level').toPandas()\n",
    "ax = sns.countplot(x='level', data=df_pd_level)"
   ]
  },
  {
   "cell_type": "markdown",
   "metadata": {},
   "source": [
    " Free use has higher pass use"
   ]
  },
  {
   "cell_type": "code",
   "execution_count": 19,
   "metadata": {},
   "outputs": [
    {
     "data": {
      "image/png": "[encoded data removed]",
      "text/plain": [
       "<matplotlib.figure.Figure at 0x7fdbc65ee908>"
      ]
     },
     "metadata": {
      "needs_background": "light"
     },
     "output_type": "display_data"
    }
   ],
   "source": [
    "df_pd_churn = df_level.select('level', \"Churn\").toPandas()\n",
    "ax = sns.countplot(x='Churn', hue='level', data=df_pd_churn)"
   ]
  },
  {
   "cell_type": "markdown",
   "metadata": {},
   "source": [
    "We can see that paid user has higher churn rate than free user."
   ]
  },
  {
   "cell_type": "markdown",
   "metadata": {},
   "source": [
    "#### Difference between \"F\" and \"M\" user in churn rate?"
   ]
  },
  {
   "cell_type": "code",
   "execution_count": 20,
   "metadata": {},
   "outputs": [],
   "source": [
    "df_gender = df.select(\"userId\", 'gender', 'Churn').distinct()"
   ]
  },
  {
   "cell_type": "code",
   "execution_count": 21,
   "metadata": {},
   "outputs": [
    {
     "data": {
      "image/png": "[encoded data removed]",
      "text/plain": [
       "<matplotlib.figure.Figure at 0x7fdbc65ed828>"
      ]
     },
     "metadata": {
      "needs_background": "light"
     },
     "output_type": "display_data"
    }
   ],
   "source": [
    "df_pd_gender = df_gender.select('gender').toPandas()\n",
    "ax = sns.countplot(x='gender', data=df_pd_gender)"
   ]
  },
  {
   "cell_type": "code",
   "execution_count": 22,
   "metadata": {},
   "outputs": [
    {
     "data": {
      "image/png": "[encoded data removed]",
      "text/plain": [
       "<matplotlib.figure.Figure at 0x7fdbc6632b70>"
      ]
     },
     "metadata": {
      "needs_background": "light"
     },
     "output_type": "display_data"
    }
   ],
   "source": [
    "df_pd_churn = df_gender.select('gender', 'Churn').toPandas()\n",
    "ax = sns.countplot(x='Churn', hue='gender', data=df_pd_churn)"
   ]
  },
  {
   "cell_type": "markdown",
   "metadata": {},
   "source": [
    "Male user is greater than female user"
   ]
  },
  {
   "cell_type": "markdown",
   "metadata": {},
   "source": [
    "#### What time in a month/year does user cancel the subcription highest?"
   ]
  },
  {
   "cell_type": "code",
   "execution_count": 23,
   "metadata": {},
   "outputs": [
    {
     "name": "stdout",
     "output_type": "stream",
     "text": [
      "+------+-------------------+-----+----+-----+---+----+\n",
      "|userId|           datetime|Churn|year|month|day|hour|\n",
      "+------+-------------------+-----+----+-----+---+----+\n",
      "|    30|2018-10-01 00:01:57|    0|2018|   10|  1|   0|\n",
      "|     9|2018-10-01 00:03:00|    0|2018|   10|  1|   0|\n",
      "|    30|2018-10-01 00:06:34|    0|2018|   10|  1|   0|\n",
      "|     9|2018-10-01 00:06:56|    0|2018|   10|  1|   0|\n",
      "|    30|2018-10-01 00:11:16|    0|2018|   10|  1|   0|\n",
      "+------+-------------------+-----+----+-----+---+----+\n",
      "only showing top 5 rows\n",
      "\n"
     ]
    }
   ],
   "source": [
    "df_month = df.select('userId', 'datetime', 'Churn')\n",
    "\n",
    "df_month = df_month.withColumn('year', F.year('datetime')) \\\n",
    "    .withColumn('month', F.month('datetime')) \\\n",
    "    .withColumn('day', F.dayofmonth('datetime')) \\\n",
    "    .withColumn('hour', F.hour('datetime'))\n",
    "\n",
    "df_month.show(5)"
   ]
  },
  {
   "cell_type": "code",
   "execution_count": 24,
   "metadata": {},
   "outputs": [
    {
     "name": "stdout",
     "output_type": "stream",
     "text": [
      "+-----+----------+\n",
      "|month|sum(Churn)|\n",
      "+-----+----------+\n",
      "|   10|        30|\n",
      "|   11|        22|\n",
      "|   12|         0|\n",
      "+-----+----------+\n",
      "\n"
     ]
    }
   ],
   "source": [
    "df_month.groupBy('month').sum('Churn').sort('month').show()"
   ]
  },
  {
   "cell_type": "code",
   "execution_count": 25,
   "metadata": {},
   "outputs": [
    {
     "data": {
      "image/png": "[encoded data removed]",
      "text/plain": [
       "<matplotlib.figure.Figure at 0x7fdbc5a4f320>"
      ]
     },
     "metadata": {
      "needs_background": "light"
     },
     "output_type": "display_data"
    }
   ],
   "source": [
    "df_pd_month = df_month.filter(F.col('Churn') == 1).toPandas()\n",
    "plt.figure(figsize = (10, 5))\n",
    "ax = sns.countplot(x='day', hue='Churn', data=df_pd_month)"
   ]
  },
  {
   "cell_type": "markdown",
   "metadata": {},
   "source": [
    "The day with the highest churn rate is at the beginning of the month, which is the 2nd."
   ]
  },
  {
   "cell_type": "markdown",
   "metadata": {},
   "source": [
    "#### Does user who not very active result in cancellation?"
   ]
  },
  {
   "cell_type": "code",
   "execution_count": 26,
   "metadata": {},
   "outputs": [
    {
     "name": "stdout",
     "output_type": "stream",
     "text": [
      "+--------------------+---------+---------+------+-------------+--------+---------+-----+------------------+------+--------+-------------+---------+--------------------+------+--------------------+------+-------------------+-----+\n",
      "|              artist|     auth|firstName|gender|itemInSession|lastName|   length|level|          location|method|    page| registration|sessionId|                song|status|           userAgent|userId|           datetime|Churn|\n",
      "+--------------------+---------+---------+------+-------------+--------+---------+-----+------------------+------+--------+-------------+---------+--------------------+------+--------------------+------+-------------------+-----+\n",
      "| Christopher O'Riley|Logged In|    Mason|     M|            0|    Hart|337.91955| free|Corpus Christi, TX|   PUT|NextSong|1533157139000|      174|    paranoid android|   200|\"Mozilla/5.0 (Mac...|   125|2018-10-12 04:05:44|    0|\n",
      "|The Notorious B.I.G.|Logged In|    Mason|     M|            1|    Hart|230.03383| free|Corpus Christi, TX|   PUT|NextSong|1533157139000|      174|Hypnotize(Album V...|   200|\"Mozilla/5.0 (Mac...|   125|2018-10-12 04:11:21|    0|\n",
      "|           Betty Boo|Logged In|    Mason|     M|            2|    Hart| 203.2322| free|Corpus Christi, TX|   PUT|NextSong|1533157139000|      174|       I'm On My Way|   200|\"Mozilla/5.0 (Mac...|   125|2018-10-12 04:15:11|    0|\n",
      "|          Nickelback|Logged In|    Mason|     M|            3|    Hart|210.83383| free|Corpus Christi, TX|   PUT|NextSong|1533157139000|      174|Leader Of Men (Al...|   200|\"Mozilla/5.0 (Mac...|   125|2018-10-12 04:18:34|    0|\n",
      "| Ready For The World|Logged In|    Mason|     M|            4|    Hart|391.26159| free|Corpus Christi, TX|   PUT|NextSong|1533157139000|      174|       Love You Down|   200|\"Mozilla/5.0 (Mac...|   125|2018-10-12 04:22:04|    0|\n",
      "+--------------------+---------+---------+------+-------------+--------+---------+-----+------------------+------+--------+-------------+---------+--------------------+------+--------------------+------+-------------------+-----+\n",
      "only showing top 5 rows\n",
      "\n"
     ]
    }
   ],
   "source": [
    "df_churn_user = df.filter(F.col('Churn') == 1)\n",
    "\n",
    "df_churn_user = df_churn_user.select(F.col('userId').alias('churn_userId'))\n",
    "\n",
    "df_churn_log = df.join(\n",
    "    df_churn_user,\n",
    "    df.userId == df_churn_user.churn_userId,\n",
    "    'inner'\n",
    ").drop('churn_userId')\n",
    "\n",
    "df_churn_log.show(5)"
   ]
  },
  {
   "cell_type": "code",
   "execution_count": 27,
   "metadata": {},
   "outputs": [
    {
     "data": {
      "image/png": "[encoded data removed]",
      "text/plain": [
       "<matplotlib.figure.Figure at 0x7fdbc5899e80>"
      ]
     },
     "metadata": {
      "needs_background": "light"
     },
     "output_type": "display_data"
    }
   ],
   "source": [
    "df_pd_dist = df_churn_log.groupBy('userId').count().toPandas()\n",
    "ax = sns.distplot(df_pd_dist['count'])"
   ]
  },
  {
   "cell_type": "markdown",
   "metadata": {},
   "source": [
    "The user is not very active before canceling the subscription."
   ]
  },
  {
   "cell_type": "markdown",
   "metadata": {},
   "source": [
    "#### Does user still use Sparkify after cancel the subscription?"
   ]
  },
  {
   "cell_type": "code",
   "execution_count": 28,
   "metadata": {},
   "outputs": [
    {
     "name": "stdout",
     "output_type": "stream",
     "text": [
      "+--------------------+---------+---------+------+-------------+--------+---------+-----+------------------+------+--------+-------------+---------+--------------------+------+--------------------+------+-------------------+-----+-------------------+\n",
      "|              artist|     auth|firstName|gender|itemInSession|lastName|   length|level|          location|method|    page| registration|sessionId|                song|status|           userAgent|userId|           datetime|Churn|       max_datetime|\n",
      "+--------------------+---------+---------+------+-------------+--------+---------+-----+------------------+------+--------+-------------+---------+--------------------+------+--------------------+------+-------------------+-----+-------------------+\n",
      "| Christopher O'Riley|Logged In|    Mason|     M|            0|    Hart|337.91955| free|Corpus Christi, TX|   PUT|NextSong|1533157139000|      174|    paranoid android|   200|\"Mozilla/5.0 (Mac...|   125|2018-10-12 04:05:44|    0|2018-10-12 04:35:18|\n",
      "|The Notorious B.I.G.|Logged In|    Mason|     M|            1|    Hart|230.03383| free|Corpus Christi, TX|   PUT|NextSong|1533157139000|      174|Hypnotize(Album V...|   200|\"Mozilla/5.0 (Mac...|   125|2018-10-12 04:11:21|    0|2018-10-12 04:35:18|\n",
      "|           Betty Boo|Logged In|    Mason|     M|            2|    Hart| 203.2322| free|Corpus Christi, TX|   PUT|NextSong|1533157139000|      174|       I'm On My Way|   200|\"Mozilla/5.0 (Mac...|   125|2018-10-12 04:15:11|    0|2018-10-12 04:35:18|\n",
      "|          Nickelback|Logged In|    Mason|     M|            3|    Hart|210.83383| free|Corpus Christi, TX|   PUT|NextSong|1533157139000|      174|Leader Of Men (Al...|   200|\"Mozilla/5.0 (Mac...|   125|2018-10-12 04:18:34|    0|2018-10-12 04:35:18|\n",
      "| Ready For The World|Logged In|    Mason|     M|            4|    Hart|391.26159| free|Corpus Christi, TX|   PUT|NextSong|1533157139000|      174|       Love You Down|   200|\"Mozilla/5.0 (Mac...|   125|2018-10-12 04:22:04|    0|2018-10-12 04:35:18|\n",
      "+--------------------+---------+---------+------+-------------+--------+---------+-----+------------------+------+--------+-------------+---------+--------------------+------+--------------------+------+-------------------+-----+-------------------+\n",
      "only showing top 5 rows\n",
      "\n"
     ]
    }
   ],
   "source": [
    "window = Window.partitionBy(\"userId\").orderBy(\"datetime\").rowsBetween(Window.unboundedPreceding, Window.unboundedFollowing)\n",
    "df_cancel = df_churn_log.withColumn(\"max_datetime\", F.max(\"datetime\").over(window))\n",
    "df_cancel.show(5)"
   ]
  },
  {
   "cell_type": "code",
   "execution_count": 29,
   "metadata": {},
   "outputs": [],
   "source": [
    "df_cancel = df_cancel.filter(F.col('datetime') == F.col('max_datetime'))"
   ]
  },
  {
   "cell_type": "code",
   "execution_count": 30,
   "metadata": {},
   "outputs": [
    {
     "data": {
      "text/plain": [
       "[Row(artist=None)]"
      ]
     },
     "execution_count": 30,
     "metadata": {},
     "output_type": "execute_result"
    }
   ],
   "source": [
    "df_cancel.select('artist').distinct().collect()"
   ]
  },
  {
   "cell_type": "markdown",
   "metadata": {},
   "source": [
    "After canceling the subscription, no one continues to use Sparkify"
   ]
  },
  {
   "cell_type": "markdown",
   "metadata": {},
   "source": [
    "##### After checking or exploring data on above steps we summary all steps clean data into below function so that using in the next steps(featuring steps)"
   ]
  },
  {
   "cell_type": "code",
   "execution_count": 31,
   "metadata": {},
   "outputs": [],
   "source": [
    "def clean_data(df):\n",
    "    \"\"\"generate features based on df_clean\n",
    "    \n",
    "    Param:\n",
    "        df: original data set\n",
    "    \n",
    "    Return:\n",
    "        df_clean: data frame with missing userId handeled, timestamp transferred, userAgent and location simplified and extra columns deleted\n",
    "    \"\"\"\n",
    "    \n",
    "    # droping invalid userIds (empty string IDs might represent the visitors of the website who did not register)\n",
    "    df_clean = df.filter(df[\"userId\"] != \"\")     \n",
    "       \n",
    "    # create column \"state\" with Abbreviation of US states extracted from \"location\" column\n",
    "    df_clean = df_clean.withColumn('state', trim(split(col('location'),',').getItem(1)))\n",
    "    \n",
    "    # convert ts to epoch time and create month, date, hour columns out of it\n",
    "    df_clean = df_clean.withColumn('epoch_time', from_unixtime(col('ts').cast(LongType())/1000).cast(TimestampType()))\n",
    "    df_clean = df_clean.withColumn('date', from_unixtime(col('ts')/1000).cast(DateType()))\n",
    "    \n",
    "    # simplify \"userAgent\"\n",
    "    agent = udf(lambda x: str(re.findall(r'\\((.*?)\\)', x)[0].split(\";\")[0].split()[0]) if x is not None else None, StringType())\n",
    "    df_clean = df_clean.withColumn(\"agent\", agent(df_clean.userAgent))\n",
    "    \n",
    "    # drop columns\n",
    "    df_clean = df_clean.drop('location','auth','firstName','lastName','method','status','userAgent')\n",
    "    \n",
    "    return df_clean"
   ]
  },
  {
   "cell_type": "code",
   "execution_count": 32,
   "metadata": {},
   "outputs": [],
   "source": [
    "def define_churn_downgrade(df_clean):\n",
    "    \"\"\"lable churn and downgrade on df_clean\n",
    "    \n",
    "    Param:\n",
    "        df_clean: clean data set\n",
    "    \n",
    "    Return:\n",
    "        df_clean: data frame with churned and downgraded users labeled as \"1\" and stayed and not downgraded users labeled as \"0\"\n",
    "    \"\"\"\n",
    "    \n",
    "    # Using the \"Cancellation Confirmation\" events to define churn with label 1 and 0 for not\n",
    "    flag_churn_event = udf(lambda x: 1 if x == \"Cancellation Confirmation\" else 0, IntegerType())\n",
    "    df_clean = df_clean.withColumn(\"Churn\", flag_churn_event(\"page\"))\n",
    "\n",
    "    # add churn user flag\n",
    "    df_clean = df_clean.withColumn(\"label\", max('Churn').over(Window.partitionBy('UserId')))\n",
    "    \n",
    "    # Flag users who downgraded at least once as 1 and users who never downgraded as 0.\n",
    "    flag_downgrade_event = udf(lambda x: 1 if x == \"Downgrade\" else 0, IntegerType())\n",
    "    df_clean = df_clean.withColumn(\"Downgrade\", flag_downgrade_event(\"page\"))\n",
    "\n",
    "    # add downgraded user flag\n",
    "    df_clean = df_clean.withColumn(\"downgraded\", max('Downgrade').over(Window.partitionBy('UserId')))\n",
    "    \n",
    "    # delete 'Downgrade','Churn' columns\n",
    "    df_clean = df_clean.drop('Downgrade','Churn')\n",
    "    \n",
    "    return df_clean"
   ]
  },
  {
   "cell_type": "code",
   "execution_count": 33,
   "metadata": {},
   "outputs": [],
   "source": [
    "df_clean = clean_data(df_org)"
   ]
  },
  {
   "cell_type": "code",
   "execution_count": 34,
   "metadata": {},
   "outputs": [],
   "source": [
    "df_clean = define_churn_downgrade(df_clean)"
   ]
  },
  {
   "cell_type": "code",
   "execution_count": 35,
   "metadata": {},
   "outputs": [],
   "source": [
    "# create subset data\n",
    "df_page = df_clean.select('label','userId','page','date')"
   ]
  },
  {
   "cell_type": "code",
   "execution_count": 36,
   "metadata": {},
   "outputs": [
    {
     "name": "stdout",
     "output_type": "stream",
     "text": [
      "+--------------------+------+-------------+---------+-----+---------+-------------+---------+--------------------+-------------+------+-----+-------------------+----------+------+-----+----------+\n",
      "|              artist|gender|itemInSession|   length|level|     page| registration|sessionId|                song|           ts|userId|state|         epoch_time|      date| agent|label|downgraded|\n",
      "+--------------------+------+-------------+---------+-----+---------+-------------+---------+--------------------+-------------+------+-----+-------------------+----------+------+-----+----------+\n",
      "|Sleeping With Sirens|     F|            0|202.97098| free| NextSong|1538016340000|       31|Captain Tyin Knot...|1539003534000|100010|   CT|2018-10-08 12:58:54|2018-10-08|iPhone|    0|         0|\n",
      "|Francesca Battist...|     F|            1|196.54485| free| NextSong|1538016340000|       31|Beautiful_ Beauti...|1539003736000|100010|   CT|2018-10-08 13:02:16|2018-10-08|iPhone|    0|         0|\n",
      "|              Brutha|     F|            2|263.13098| free| NextSong|1538016340000|       31|          She's Gone|1539003932000|100010|   CT|2018-10-08 13:05:32|2018-10-08|iPhone|    0|         0|\n",
      "|                null|     F|            3|     null| free|Thumbs Up|1538016340000|       31|                null|1539003933000|100010|   CT|2018-10-08 13:05:33|2018-10-08|iPhone|    0|         0|\n",
      "|         Josh Ritter|     F|            4|316.23791| free| NextSong|1538016340000|       31|      Folk Bloodbath|1539004195000|100010|   CT|2018-10-08 13:09:55|2018-10-08|iPhone|    0|         0|\n",
      "+--------------------+------+-------------+---------+-----+---------+-------------+---------+--------------------+-------------+------+-----+-------------------+----------+------+-----+----------+\n",
      "only showing top 5 rows\n",
      "\n"
     ]
    }
   ],
   "source": [
    "df_clean.show(5)"
   ]
  },
  {
   "cell_type": "markdown",
   "metadata": {},
   "source": [
    "# Feature Engineering\n",
    "Once you've familiarized yourself with the data, build out the features you find promising to train your model on. To work with the full dataset, you can follow the following steps.\n",
    "- Write a script to extract the necessary features from the smaller subset of data\n",
    "- Ensure that your script is scalable, using the best practices discussed in Lesson 3\n",
    "- Try your script on the full data set, debugging your script if necessary\n",
    "\n",
    "If you are working in the classroom workspace, you can just extract features based on the small subset of data contained here. Be sure to transfer over this work to the larger dataset when you work on your Spark cluster."
   ]
  },
  {
   "cell_type": "code",
   "execution_count": 37,
   "metadata": {},
   "outputs": [
    {
     "name": "stdout",
     "output_type": "stream",
     "text": [
      "root\n",
      " |-- artist: string (nullable = true)\n",
      " |-- auth: string (nullable = true)\n",
      " |-- firstName: string (nullable = true)\n",
      " |-- gender: string (nullable = true)\n",
      " |-- itemInSession: long (nullable = true)\n",
      " |-- lastName: string (nullable = true)\n",
      " |-- length: double (nullable = true)\n",
      " |-- level: string (nullable = true)\n",
      " |-- location: string (nullable = true)\n",
      " |-- method: string (nullable = true)\n",
      " |-- page: string (nullable = true)\n",
      " |-- registration: long (nullable = true)\n",
      " |-- sessionId: long (nullable = true)\n",
      " |-- song: string (nullable = true)\n",
      " |-- status: long (nullable = true)\n",
      " |-- userAgent: string (nullable = true)\n",
      " |-- userId: string (nullable = true)\n",
      " |-- datetime: string (nullable = true)\n",
      " |-- Churn: integer (nullable = false)\n",
      "\n"
     ]
    }
   ],
   "source": [
    "df.printSchema()"
   ]
  },
  {
   "cell_type": "code",
   "execution_count": 38,
   "metadata": {},
   "outputs": [],
   "source": [
    "df_feature = df.select('userId', 'level', 'gender', 'Churn', 'datetime', 'length', 'artist', 'song', 'page')"
   ]
  },
  {
   "cell_type": "code",
   "execution_count": 39,
   "metadata": {},
   "outputs": [
    {
     "name": "stdout",
     "output_type": "stream",
     "text": [
      "+------+------------------+------------+----------+-------------+--------------+----------------+----------------+------------------+\n",
      "|userId|   avg_song_length|total_artist|total_song|total_session|total_thumb_up|total_thumb_down|total_add_friend|total_add_playlist|\n",
      "+------+------------------+------------+----------+-------------+--------------+----------------+----------------+------------------+\n",
      "|100010|  243.421444909091|         252|       269|          381|            17|               5|               4|                 7|\n",
      "|200002|242.91699209302305|         339|       378|          474|            21|               6|               4|                 8|\n",
      "|   125|261.13913750000006|           8|         8|           11|             0|               0|               0|                 0|\n",
      "|    51|247.88055082899118|        1385|      1854|         2464|           100|              21|              28|                52|\n",
      "|   124|248.17653659965674|        2232|      3339|         4825|           171|              41|              74|               118|\n",
      "+------+------------------+------------+----------+-------------+--------------+----------------+----------------+------------------+\n",
      "only showing top 5 rows\n",
      "\n"
     ]
    }
   ],
   "source": [
    "# Create features\n",
    "\n",
    "df_by_user = df_feature.groupBy('userId').agg(\n",
    "    F.avg('length').alias('avg_song_length'),\n",
    "    F.countDistinct('artist').alias('total_artist'),\n",
    "    F.countDistinct('song').alias('total_song'),\n",
    "    F.count('page').alias('total_session'),\n",
    "    F.count(F.when(F.col('page') == 'Thumbs Up', True)).alias('total_thumb_up'),\n",
    "    F.count(F.when(F.col('page') == 'Thumbs Down', True)).alias('total_thumb_down'),\n",
    "    F.count(F.when(F.col('page') == 'Add Friend', True)).alias('total_add_friend'),\n",
    "    F.count(F.when(F.col('page') == 'Add to Playlist', True)).alias('total_add_playlist')\n",
    ")\n",
    "df_by_user.show(5)"
   ]
  },
  {
   "cell_type": "code",
   "execution_count": 40,
   "metadata": {},
   "outputs": [
    {
     "name": "stdout",
     "output_type": "stream",
     "text": [
      "+------+-----+------+-----+-------------------+------+------+----+--------------------+-------------------+\n",
      "|userId|level|gender|Churn|           datetime|length|artist|song|                page|       max_datetime|\n",
      "+------+-----+------+-----+-------------------+------+------+----+--------------------+-------------------+\n",
      "|100010| free|     F|    0|2018-11-21 18:12:32|  null|  null|null|              Logout|2018-11-21 18:12:32|\n",
      "|200002| paid|     M|    0|2018-11-15 23:25:54|  null|  null|null|           Thumbs Up|2018-11-15 23:25:54|\n",
      "|   125| free|     M|    0|2018-10-12 04:35:18|  null|  null|null|              Cancel|2018-10-12 04:35:18|\n",
      "|   125| free|     M|    1|2018-10-12 04:35:18|  null|  null|null|Cancellation Conf...|2018-10-12 04:35:18|\n",
      "|   124| paid|     F|    0|2018-11-30 15:12:46|  null|  null|null|                Home|2018-11-30 15:12:46|\n",
      "+------+-----+------+-----+-------------------+------+------+----+--------------------+-------------------+\n",
      "only showing top 5 rows\n",
      "\n"
     ]
    }
   ],
   "source": [
    "# Keep latest records\n",
    "\n",
    "window = Window.partitionBy(\"userId\").orderBy(\"datetime\").rowsBetween(Window.unboundedPreceding, Window.unboundedFollowing)\n",
    "df_user = df_feature.withColumn(\"max_datetime\", F.max(\"datetime\").over(window))\n",
    "df_user = df_user.filter(F.col('datetime') == F.col('max_datetime'))\n",
    "df_user.show(5)"
   ]
  },
  {
   "cell_type": "code",
   "execution_count": 41,
   "metadata": {},
   "outputs": [
    {
     "name": "stdout",
     "output_type": "stream",
     "text": [
      "+------+-----+------+-----+-------------------+------+------+----+--------------------+-------------------+---------+\n",
      "|userId|level|gender|Churn|           datetime|length|artist|song|                page|       max_datetime|sum_churn|\n",
      "+------+-----+------+-----+-------------------+------+------+----+--------------------+-------------------+---------+\n",
      "|100010| free|     F|    0|2018-11-21 18:12:32|  null|  null|null|              Logout|2018-11-21 18:12:32|        0|\n",
      "|200002| paid|     M|    0|2018-11-15 23:25:54|  null|  null|null|           Thumbs Up|2018-11-15 23:25:54|        0|\n",
      "|   125| free|     M|    1|2018-10-12 04:35:18|  null|  null|null|Cancellation Conf...|2018-10-12 04:35:18|        1|\n",
      "|   124| paid|     F|    0|2018-11-30 15:12:46|  null|  null|null|                Home|2018-11-30 15:12:46|        0|\n",
      "|    51| paid|     M|    1|2018-10-17 07:39:32|  null|  null|null|Cancellation Conf...|2018-10-17 07:39:32|        1|\n",
      "+------+-----+------+-----+-------------------+------+------+----+--------------------+-------------------+---------+\n",
      "only showing top 5 rows\n",
      "\n"
     ]
    }
   ],
   "source": [
    "# Keep record that \"Churn\" = 1, otherwise 0\n",
    "\n",
    "df_user = df_user.withColumn('sum_churn', F.sum('Churn').over(Window.partitionBy(\"userId\")))\n",
    "df_user = df_user.filter(~((F.col('Churn') == 0) & (F.col('sum_churn') > 0)))\n",
    "\n",
    "df_user.show(5)"
   ]
  },
  {
   "cell_type": "code",
   "execution_count": 42,
   "metadata": {},
   "outputs": [
    {
     "name": "stdout",
     "output_type": "stream",
     "text": [
      "+------------------+------------+----------+-------------+--------------+----------------+----------------+------------------+-----+------+-----+\n",
      "|   avg_song_length|total_artist|total_song|total_session|total_thumb_up|total_thumb_down|total_add_friend|total_add_playlist|level|gender|Churn|\n",
      "+------------------+------------+----------+-------------+--------------+----------------+----------------+------------------+-----+------+-----+\n",
      "|  243.421444909091|         252|       269|          381|            17|               5|               4|                 7| free|     F|    0|\n",
      "|242.91699209302305|         339|       378|          474|            21|               6|               4|                 8| paid|     M|    0|\n",
      "|261.13913750000006|           8|         8|           11|             0|               0|               0|                 0| free|     M|    1|\n",
      "|248.17653659965674|        2232|      3339|         4825|           171|              41|              74|               118| paid|     F|    0|\n",
      "|247.88055082899118|        1385|      1854|         2464|           100|              21|              28|                52| paid|     M|    1|\n",
      "+------------------+------------+----------+-------------+--------------+----------------+----------------+------------------+-----+------+-----+\n",
      "only showing top 5 rows\n",
      "\n"
     ]
    }
   ],
   "source": [
    "df_user = df_user.select('userId', 'level', 'gender', 'Churn').distinct()\n",
    "\n",
    "df_merge = df_by_user.join(df_user, 'userId', 'left').drop('userId')\n",
    "df_merge.show(5)\n"
   ]
  },
  {
   "cell_type": "code",
   "execution_count": 43,
   "metadata": {},
   "outputs": [
    {
     "name": "stdout",
     "output_type": "stream",
     "text": [
      "+------------------+------------+----------+-------------+--------------+----------------+----------------+------------------+-----+------+-----+\n",
      "|   avg_song_length|total_artist|total_song|total_session|total_thumb_up|total_thumb_down|total_add_friend|total_add_playlist|level|gender|Churn|\n",
      "+------------------+------------+----------+-------------+--------------+----------------+----------------+------------------+-----+------+-----+\n",
      "|  243.421444909091|         252|       269|          381|            17|               5|               4|                 7|    0|     0|    0|\n",
      "|242.91699209302305|         339|       378|          474|            21|               6|               4|                 8|    1|     1|    0|\n",
      "|261.13913750000006|           8|         8|           11|             0|               0|               0|                 0|    0|     1|    1|\n",
      "|248.17653659965674|        2232|      3339|         4825|           171|              41|              74|               118|    1|     0|    0|\n",
      "|247.88055082899118|        1385|      1854|         2464|           100|              21|              28|                52|    1|     1|    1|\n",
      "+------------------+------------+----------+-------------+--------------+----------------+----------------+------------------+-----+------+-----+\n",
      "only showing top 5 rows\n",
      "\n"
     ]
    }
   ],
   "source": [
    "df_final = df_merge.withColumn(\"level\", F.when(F.col(\"level\") == \"paid\", 1).otherwise(0)) \\\n",
    "    .withColumn(\"gender\", F.when(F.col(\"gender\") == \"M\", 1).otherwise(0))\n",
    "\n",
    "df_final.show(5)"
   ]
  },
  {
   "cell_type": "code",
   "execution_count": 44,
   "metadata": {
    "scrolled": false
   },
   "outputs": [
    {
     "name": "stderr",
     "output_type": "stream",
     "text": [
      "/opt/conda/lib/python3.6/site-packages/IPython/core/interactiveshell.py:2961: UserWarning: To output multiple subplots, the figure containing the passed axes is being cleared\n",
      "  exec(code_obj, self.user_global_ns, self.user_ns)\n"
     ]
    },
    {
     "data": {
      "image/png": "[encoded data removed]",
      "text/plain": [
       "<matplotlib.figure.Figure at 0x7fdbc586f588>"
      ]
     },
     "metadata": {
      "needs_background": "light"
     },
     "output_type": "display_data"
    }
   ],
   "source": [
    "df_pd_final = df_final.toPandas()\n",
    "\n",
    "fig = plt.figure(figsize=(30, 25))\n",
    "ax = fig.gca()\n",
    "h = df_pd_final.hist(ax=ax)"
   ]
  },
  {
   "cell_type": "markdown",
   "metadata": {},
   "source": [
    "### Prepare features"
   ]
  },
  {
   "cell_type": "code",
   "execution_count": 45,
   "metadata": {},
   "outputs": [],
   "source": [
    "def prepare_features(df_clean):\n",
    "    \"\"\"generate features based on df_clean\n",
    "    \n",
    "    Param:\n",
    "        df_clean: cleaned data frame from which all features are generated\n",
    "    \n",
    "    Return:\n",
    "        df_model: data frame with all necessary features\n",
    "    \"\"\"\n",
    "    \n",
    "    # add feature \"registered days\"\n",
    "    cancellation_df = df_clean.select('userId','ts')\\\n",
    "                              .groupBy('userId')\\\n",
    "                              .agg(max('ts')\\\n",
    "                              .alias('lastinteraction'))\n",
    "    df_clean = cancellation_df.join(df_clean, on='userId')\\\n",
    "                              .withColumn('registered_days', \n",
    "                                          ((col('lastinteraction')-col('registration'))/86400000)\n",
    "                              .cast(IntegerType()))\n",
    "    df_clean = df_clean.drop('lastinteraction','registration')\n",
    "    del cancellation_df\n",
    "    \n",
    "    # add feature \"latest level of users before they churn\"\n",
    "    level_df = df_clean.select('ts','userId','level')\\\n",
    "                       .orderBy('ts', ascending=False)\\\n",
    "                       .groupBy('userId')\\\n",
    "                       .agg(first('level')\\\n",
    "                       .alias('valid_level'))    \n",
    "    df_clean = df_clean.drop('level')\n",
    "    df_clean = df_clean.join(level_df, on='userId')\n",
    "    del level_df\n",
    "    \n",
    "    # add feature \"Number of songs per day\"\n",
    "    temp_daily_song = df_clean.select('userId','date','song')\\\n",
    "                              .groupBy('userId','date')\\\n",
    "                              .agg(countDistinct('song')\\\n",
    "                              .alias('songs'))\\\n",
    "                              .sort('userId')\n",
    "    daily_song = temp_daily_song.groupBy('userId')\\\n",
    "                                .avg('songs')\\\n",
    "                                .withColumnRenamed('avg(songs)',\n",
    "                                                   'avg_daily_song')\n",
    "    df_clean = df_clean.join(daily_song, on='userId')\n",
    "    del temp_daily_song,daily_song\n",
    "   \n",
    "    # add feature \"Number of songs per session\"\n",
    "    # create new feature\n",
    "    song_per_session_df = df_clean.select('page','label', 'userId', 'sessionId')\\\n",
    "                                  .where('page == \"NextSong\"')\\\n",
    "                                  .groupby(['label', 'userId', 'sessionId'])\\\n",
    "                                  .count()\\\n",
    "                                  .groupby(['label', 'userId'])\\\n",
    "                                  .agg({'count': 'avg'})\\\n",
    "                                  .withColumnRenamed('avg(count)', \n",
    "                                                     'songs_per_session')\n",
    "    df_clean = df_clean.join(song_per_session_df.drop('label'), on='userId')\n",
    "    del song_per_session_df\n",
    "    \n",
    "    # add feature \"average session duration\"\n",
    "    # session duration for each user\n",
    "    session_duration = df_clean.select('userId','sessionId','ts')\\\n",
    "                               .groupBy('userId','sessionId')\\\n",
    "                               .agg(((max('ts')-min('ts'))/1000/3600)\\\n",
    "                               .alias('activesession'))\n",
    "    # average session duration for each user\n",
    "    session_duration_df = session_duration.groupBy('userId')\\\n",
    "                                          .avg('activesession')\\\n",
    "                                          .withColumnRenamed('avg(activesession)',\n",
    "                                                             'avg_session')\n",
    "    # join dataframe to create new column\n",
    "    df_clean = df_clean.join(session_duration_df, on='userId')\n",
    "    del session_duration,session_duration_df\n",
    "    \n",
    "    # add feature \"Friends added\"\n",
    "    # average number of friends added daily\n",
    "    daily_friends_df = df_page.where('page == \"Add Friend\"').groupby(['label', 'userId','date']).count()\\\n",
    "        .groupby('label','userId').avg('count').withColumnRenamed('avg(count)', 'friends')\n",
    "    \n",
    "    # join dataframe to create new column \"friends\"\n",
    "    df_clean = df_clean.join(daily_friends_df.drop('label'), on='userId',how='left')\n",
    "    del daily_friends_df\n",
    "    \n",
    "    # add feature \"number of thumb ups\"\n",
    "    # average number of \"thumbs up\" daily\n",
    "    thumbs_up_df = df_page.where('page == \"Thumbs Up\"').groupby(['label', 'userId','date']).count()\\\n",
    "        .groupby('label','userId').avg('count').withColumnRenamed('avg(count)', 'thumbs_ups')\n",
    "\n",
    "    # join dataframe to create new column \"thumbs_ups\"\n",
    "    df_clean = df_clean.join(thumbs_up_df.drop('label'), on='userId',how='left')\n",
    "    del thumbs_up_df\n",
    "    \n",
    "    # add feature \"number of \"thumbs down\"\n",
    "    # average number of \"thumbs down\" daily\n",
    "    thumbs_down_df = df_page.where('page == \"Thumbs Down\"').groupby(['label', 'userId','date']).count()\\\n",
    "        .groupby('label','userId').avg('count').withColumnRenamed('avg(count)', 'thumbs_downs')\n",
    "    \n",
    "    # join dataframe to create new column \"thumbs_down\"\n",
    "    df_clean = df_clean.join(thumbs_down_df.drop('label'), on='userId',how='left')\n",
    "    del thumbs_down_df\n",
    "    \n",
    "    # add feature \"Times to add to playlist\"\n",
    "    # average number of \"add to playlist\" \n",
    "    add_playlist_df = df_page.where('page == \"Add to Playlist\"').groupby(['label', 'userId','date']).count()\\\n",
    "        .groupby('label','userId').avg('count').withColumnRenamed('avg(count)', 'add_playlist')\n",
    "    \n",
    "    # join dataframe to create new column \"add_playlist\"\n",
    "    df_clean = df_clean.join(add_playlist_df.drop('label'), on='userId',how='left')\n",
    "    del add_playlist_df\n",
    "    \n",
    "    # add feature \"times to roll advert\"\n",
    "    # average number of \"roll advert\" \n",
    "    roll_advert_df = df_page.where('page == \"Roll Advert\"').groupby(['label', 'userId','date']).count()\\\n",
    "        .groupby('label','userId').avg('count').withColumnRenamed('avg(count)', 'roll_advert')\n",
    "\n",
    "    # join dataframe to create new column \"roll_advert\"\n",
    "    df_clean = df_clean.join(roll_advert_df.drop('label'), on='userId',how='left')\n",
    "    del roll_advert_df\n",
    "    \n",
    "    # assemble features for modeling\n",
    "    df_model = df_clean.select(['userId',\n",
    "                                   'label',\n",
    "                                   'downgraded',\n",
    "                                   'gender',\n",
    "                                   'valid_level',\n",
    "                                   'agent',\n",
    "                                   'registered_days',\n",
    "                                   'avg_daily_song',\n",
    "                                   'songs_per_session',\n",
    "                                   'avg_session',\n",
    "                                   'friends',\n",
    "                                   'thumbs_ups',\n",
    "                                   'thumbs_downs',\n",
    "                                   'add_playlist',\n",
    "                                   'roll_advert']).dropDuplicates(['userId'])\n",
    "    \n",
    "    # format decimal\n",
    "    df_model = df_model.withColumn(\"daily_song\", bround(df_model.avg_daily_song,1))\n",
    "    df_model = df_model.withColumn(\"session_song\", bround(df_model.songs_per_session,1))\n",
    "    df_model = df_model.withColumn(\"session_duration\", bround(df_model.avg_session,1))\n",
    "\n",
    "    # replace missing value with 0\n",
    "    df_model = df_model.na.fill(0)\n",
    "    \n",
    "    # drop old columns\n",
    "    df_model = df_model.drop('avg_daily_song','songs_per_session','avg_session','userId')\n",
    "\n",
    "    return df_model"
   ]
  },
  {
   "cell_type": "code",
   "execution_count": 46,
   "metadata": {},
   "outputs": [],
   "source": [
    "df_features = prepare_features(df_clean)"
   ]
  },
  {
   "cell_type": "code",
   "execution_count": 47,
   "metadata": {},
   "outputs": [
    {
     "data": {
      "text/plain": [
       "['label',\n",
       " 'downgraded',\n",
       " 'gender',\n",
       " 'valid_level',\n",
       " 'agent',\n",
       " 'registered_days',\n",
       " 'friends',\n",
       " 'thumbs_ups',\n",
       " 'thumbs_downs',\n",
       " 'add_playlist',\n",
       " 'roll_advert',\n",
       " 'daily_song',\n",
       " 'session_song',\n",
       " 'session_duration']"
      ]
     },
     "execution_count": 47,
     "metadata": {},
     "output_type": "execute_result"
    }
   ],
   "source": [
    "df_features.columns"
   ]
  },
  {
   "cell_type": "code",
   "execution_count": 48,
   "metadata": {},
   "outputs": [],
   "source": [
    "def transform_features(df_model):\n",
    "    \"\"\"transfrom the features into the form the model can digest\n",
    "    \n",
    "    Param:\n",
    "        df_model: the data frame with all necessary features.\n",
    "        \n",
    "    Return:\n",
    "        df_model: data data frame ready to be used for modeling.\n",
    "    \"\"\"\n",
    "    \n",
    "    # Transform categorical columns with StringIndexer\n",
    "    indexers = [StringIndexer(inputCol=column, outputCol=column+\"_index\").fit(df_model) \n",
    "                    for column in ['gender','valid_level','agent'] ]\n",
    "    pipeline = Pipeline(stages=indexers)\n",
    "    df_r = pipeline.fit(df_model)\\\n",
    "                   .transform(df_model)\n",
    "    df_model = df_r.drop('gender','valid_level','agent')\n",
    "    \n",
    "    # use StandardScaler to scalerize the created “scaled_feature” column\n",
    "    # assembeling numeric features to create a vector\n",
    "    assembler = VectorAssembler(inputCols=['registered_days',\n",
    "                                           'friends',\n",
    "                                           'thumbs_ups',\n",
    "                                           'thumbs_downs',\n",
    "                                           'add_playlist',\n",
    "                                           'roll_advert',\n",
    "                                           'daily_song',\n",
    "                                           'session_song',\n",
    "                                           'session_duration'], \n",
    "                                outputCol=\"features\")\n",
    "    \n",
    "    # use the transform method to transform df\n",
    "    df_model = assembler.transform(df_model)\n",
    "    \n",
    "    # standardize numeric feature vector\n",
    "    standardscaler=StandardScaler().setInputCol(\"features\")\\\n",
    "                                   .setOutputCol(\"Scaled_features\")\n",
    "    df_model = standardscaler.fit(df_model)\\\n",
    "                             .transform(df_model)\n",
    " \n",
    "    # Combine all features in one single feature vector\n",
    "    assembler = VectorAssembler(inputCols=['Scaled_features',\n",
    "                                           'downgraded',\n",
    "                                           'gender_index',\n",
    "                                           'valid_level_index',\n",
    "                                           'agent_index'],\n",
    "                                outputCol='exp_features')\n",
    "    \n",
    "    # use the transform method to transform df\n",
    "    df_model = assembler.transform(df_model)\n",
    "    \n",
    "    return df_model"
   ]
  },
  {
   "cell_type": "code",
   "execution_count": 49,
   "metadata": {},
   "outputs": [],
   "source": [
    "df_model = transform_features(df_features)"
   ]
  },
  {
   "cell_type": "code",
   "execution_count": 50,
   "metadata": {},
   "outputs": [],
   "source": [
    "df_model = df_model.select('label','exp_features')"
   ]
  },
  {
   "cell_type": "code",
   "execution_count": 51,
   "metadata": {},
   "outputs": [
    {
     "data": {
      "text/plain": [
       "225"
      ]
     },
     "execution_count": 51,
     "metadata": {},
     "output_type": "execute_result"
    }
   ],
   "source": [
    "df_model.count()"
   ]
  },
  {
   "cell_type": "code",
   "execution_count": 52,
   "metadata": {},
   "outputs": [
    {
     "data": {
      "text/plain": [
       "DataFrame[label: int, exp_features: vector]"
      ]
     },
     "execution_count": 52,
     "metadata": {},
     "output_type": "execute_result"
    }
   ],
   "source": [
    "df_model.cache()\n",
    "df_model"
   ]
  },
  {
   "cell_type": "markdown",
   "metadata": {},
   "source": [
    "# Modeling\n",
    "Split the full dataset into train, test, and validation sets. Test out several of the machine learning methods you learned. Evaluate the accuracy of the various models, tuning parameters as necessary. Determine your winning model based on test accuracy and report results on the validation set. Since the churned users are a fairly small subset, I suggest using F1 score as the metric to optimize."
   ]
  },
  {
   "cell_type": "markdown",
   "metadata": {},
   "source": [
    "#### Train test split"
   ]
  },
  {
   "cell_type": "markdown",
   "metadata": {},
   "source": [
    "As a first step break your data set into 80% of training data and set aside 20%. Set random seed to 42."
   ]
  },
  {
   "cell_type": "code",
   "execution_count": 53,
   "metadata": {},
   "outputs": [
    {
     "name": "stdout",
     "output_type": "stream",
     "text": [
      "The number of training examples are 191\n",
      "The number of test examples are 34\n"
     ]
    }
   ],
   "source": [
    "rest, validation = df_model.randomSplit([0.8, 0.2], seed=42)\n",
    "print('The number of training examples are {}'.format(rest.count()))\n",
    "print('The number of test examples are {}'.format(validation.count()))"
   ]
  },
  {
   "cell_type": "markdown",
   "metadata": {},
   "source": [
    "#### Check imbalance in the dataset"
   ]
  },
  {
   "cell_type": "code",
   "execution_count": 54,
   "metadata": {},
   "outputs": [
    {
     "name": "stdout",
     "output_type": "stream",
     "text": [
      "The number of ones are 42\n",
      "Percentage of ones are 21.98952879581152\n"
     ]
    }
   ],
   "source": [
    "dataset_size = float(rest.select('label').count())\n",
    "numPositives = rest.select('label').where('label == 1').count()\n",
    "per_ones = (float(numPositives)/float(dataset_size))*100\n",
    "numNegatives = float(dataset_size-numPositives)\n",
    "print('The number of ones are {}'.format(numPositives))\n",
    "print('Percentage of ones are {}'.format(per_ones))"
   ]
  },
  {
   "cell_type": "markdown",
   "metadata": {},
   "source": [
    "#### Class weighing"
   ]
  },
  {
   "cell_type": "code",
   "execution_count": 55,
   "metadata": {},
   "outputs": [
    {
     "name": "stdout",
     "output_type": "stream",
     "text": [
      "BalancingRatio = 0.7801047120418848\n"
     ]
    }
   ],
   "source": [
    "BalancingRatio= numNegatives/dataset_size\n",
    "print('BalancingRatio = {}'.format(BalancingRatio))"
   ]
  },
  {
   "cell_type": "code",
   "execution_count": 56,
   "metadata": {},
   "outputs": [
    {
     "name": "stdout",
     "output_type": "stream",
     "text": [
      "+------------------+\n",
      "|      classWeights|\n",
      "+------------------+\n",
      "|0.2198952879581152|\n",
      "|0.7801047120418848|\n",
      "|0.2198952879581152|\n",
      "|0.7801047120418848|\n",
      "|0.7801047120418848|\n",
      "+------------------+\n",
      "only showing top 5 rows\n",
      "\n"
     ]
    }
   ],
   "source": [
    "# creating a new column named “classWeights” in the “rest” dataset\n",
    "rest = rest.withColumn(\"classWeights\", when(rest.label == 1,BalancingRatio).otherwise(1-BalancingRatio))\n",
    "rest.select(\"classWeights\").show(5)"
   ]
  },
  {
   "cell_type": "code",
   "execution_count": 57,
   "metadata": {},
   "outputs": [
    {
     "data": {
      "text/plain": [
       "DataFrame[label: int, exp_features: vector]"
      ]
     },
     "execution_count": 57,
     "metadata": {},
     "output_type": "execute_result"
    }
   ],
   "source": [
    "rest.cache()\n",
    "validation.cache()"
   ]
  },
  {
   "cell_type": "code",
   "execution_count": 58,
   "metadata": {},
   "outputs": [],
   "source": [
    "def model_eval(model, train_data, valid_data,verbose=False):\n",
    "    \"\"\"Train the model given training data set and evaluate on validation data set and return the evaluation metrics\n",
    "    \n",
    "    Param:\n",
    "        model: the spark machine learning model for classification\n",
    "        train_data: spark data frame for training data set\n",
    "        valid_data: spark data frame for validation data set\n",
    "        verbose: boolean indicator of showing the model result or not\n",
    "    Return:\n",
    "        result: a dictionary including F1 score, AUC score and feature importance\n",
    "    \"\"\"\n",
    "    \n",
    "    fitted_model = model.fit(train_data)\n",
    "\n",
    "    \n",
    "    exp_features = ['registered_days',\n",
    "                    'friends',\n",
    "                    'thumbs_ups',\n",
    "                    'thumbs_downs',\n",
    "                    'add_playlist',\n",
    "                    'roll_advert',\n",
    "                    'daily_song',\n",
    "                    'session_song',\n",
    "                    'session_duration',\n",
    "                    'downgraded',\n",
    "                    'gender_index',\n",
    "                    'valid_level_index',\n",
    "                    'agent_index']\n",
    "    \n",
    "    predict_rest = fitted_model.transform(train_data)\n",
    "    predict_val = fitted_model.transform(valid_data)\n",
    "\n",
    "    #F1 score\n",
    "    f1_score_evaluator = MulticlassClassificationEvaluator(metricName='f1')\n",
    "    f1_score_rest = f1_score_evaluator.evaluate(predict_rest.select(col('label'), col('prediction')))\n",
    "    f1_score_val = f1_score_evaluator.evaluate(predict_val.select(col('label'), col('prediction')))\n",
    "\n",
    "    #AUC\n",
    "    auc_evaluator = BinaryClassificationEvaluator()\n",
    "    roc_value_rest = auc_evaluator.evaluate(predict_rest, {auc_evaluator.metricName: \"areaUnderROC\"})\n",
    "    roc_value_val = auc_evaluator.evaluate(predict_val, {auc_evaluator.metricName: \"areaUnderROC\"})\n",
    "    \n",
    "    if verbose:\n",
    "        print('The F1 score on the train set is {:.2%}'.format(f1_score_rest))\n",
    "        print('The F1 score on the test set is {:.2%}'.format(f1_score_val)) \n",
    "        print('The areaUnderROC on the train set is {:.2%}'.format(roc_value_rest))\n",
    "        print('The areaUnderROC on the test set is {:.2%}'.format(roc_value_val))\n",
    "    \n",
    "    ## feature importances\n",
    "    if isinstance(model, LogisticRegression):\n",
    "        FI = fitted_model.coefficients\n",
    "        model_FI = pd.DataFrame(list(zip(exp_features, FI)), \n",
    "                                columns=['Feature', 'Coefficient']).sort_values('Coefficient', ascending=False)\n",
    "        if verbose:\n",
    "            model_FI.plot.bar(x='Feature', y='Coefficient')\n",
    "            plt.ylabel('Coefficient')\n",
    "            \n",
    "    if isinstance(model, RandomForestClassifier) or isinstance(model, GBTClassifier):\n",
    "        FI = fitted_model.featureImportances\n",
    "        model_FI = pd.DataFrame(list(zip(exp_features, FI)), \n",
    "                                columns=['Feature', 'FeatureImportances']).sort_values('FeatureImportances', ascending=False)\n",
    "        if verbose:\n",
    "            model_FI.plot.bar(x='Feature', y='FeatureImportances')\n",
    "            plt.ylabel('FeatureImportances')\n",
    "   \n",
    "    if isinstance(model,CrossValidator):\n",
    "        FI = fitted_model.bestModel.featureImportances\n",
    "        model_FI = pd.DataFrame(list(zip(exp_features, FI)), \n",
    "                                columns=['Feature', 'FeatureImportances']).sort_values('FeatureImportances', ascending=False)\n",
    "        if verbose:\n",
    "            model_FI.plot.bar(x='Feature', y='FeatureImportances')\n",
    "            plt.ylabel('FeatureImportances')\n",
    "    \n",
    "    if verbose:\n",
    "        # visualizing fearue importances\n",
    "        plt.title('Feature importance of'+ str(type(model)))\n",
    "        plt.xlabel('Features')\n",
    "        plt.xticks(rotation=45, ha='right')\n",
    "        plt.show()\n",
    "\n",
    "    result = {}\n",
    "    result['f1_score_rest'] = f1_score_rest\n",
    "    result['f1_score_val'] = f1_score_val\n",
    "    result['roc_value_rest'] = roc_value_rest\n",
    "    result['roc_value_val'] = roc_value_val\n",
    "    result['model_FI']=model_FI\n",
    "    \n",
    "    return result"
   ]
  },
  {
   "cell_type": "markdown",
   "metadata": {},
   "source": [
    "#### Logistic regression model"
   ]
  },
  {
   "cell_type": "code",
   "execution_count": 59,
   "metadata": {},
   "outputs": [
    {
     "name": "stdout",
     "output_type": "stream",
     "text": [
      "The F1 score on the train set is 74.38%\n",
      "The F1 score on the test set is 73.10%\n",
      "The areaUnderROC on the train set is 79.43%\n",
      "The areaUnderROC on the test set is 76.25%\n"
     ]
    },
    {
     "data": {
      "image/png": "[encoded data removed]",
      "text/plain": [
       "<matplotlib.figure.Figure at 0x7fdbc4646940>"
      ]
     },
     "metadata": {
      "needs_background": "light"
     },
     "output_type": "display_data"
    },
    {
     "data": {
      "text/plain": [
       "{'f1_score_rest': 0.7438047080348289,\n",
       " 'f1_score_val': 0.731029253806786,\n",
       " 'roc_value_rest': 0.7943432406519648,\n",
       " 'roc_value_val': 0.7625000000000001,\n",
       " 'model_FI':               Feature  Coefficient\n",
       " 6          daily_song     1.070573\n",
       " 9          downgraded     0.813533\n",
       " 11  valid_level_index     0.417123\n",
       " 5         roll_advert     0.374592\n",
       " 3        thumbs_downs     0.224694\n",
       " 2          thumbs_ups     0.203438\n",
       " 4        add_playlist     0.052124\n",
       " 1             friends    -0.152221\n",
       " 12        agent_index    -0.198234\n",
       " 10       gender_index    -0.378273\n",
       " 8    session_duration    -0.582143\n",
       " 7        session_song    -0.843315\n",
       " 0     registered_days    -1.095416}"
      ]
     },
     "execution_count": 59,
     "metadata": {},
     "output_type": "execute_result"
    }
   ],
   "source": [
    "lr = LogisticRegression(labelCol=\"label\", featuresCol=\"exp_features\",weightCol=\"classWeights\",maxIter=10)\n",
    "result_lr = model_eval(lr, rest, validation, verbose=True)\n",
    "result_lr"
   ]
  },
  {
   "cell_type": "markdown",
   "metadata": {},
   "source": [
    "#### Random forest model"
   ]
  },
  {
   "cell_type": "code",
   "execution_count": 60,
   "metadata": {},
   "outputs": [
    {
     "name": "stdout",
     "output_type": "stream",
     "text": [
      "The F1 score on the train set is 90.85%\n",
      "The F1 score on the test set is 70.31%\n",
      "The areaUnderROC on the train set is 98.31%\n",
      "The areaUnderROC on the test set is 73.75%\n"
     ]
    },
    {
     "data": {
      "image/png": "[encoded data removed]",
      "text/plain": [
       "<matplotlib.figure.Figure at 0x7fdbc4cbcb70>"
      ]
     },
     "metadata": {
      "needs_background": "light"
     },
     "output_type": "display_data"
    },
    {
     "data": {
      "text/plain": [
       "{'f1_score_rest': 0.9085093736697668,\n",
       " 'f1_score_val': 0.7030812324929971,\n",
       " 'roc_value_rest': 0.9830616810482582,\n",
       " 'roc_value_val': 0.7375,\n",
       " 'model_FI':               Feature  FeatureImportances\n",
       " 0     registered_days            0.331262\n",
       " 5         roll_advert            0.116667\n",
       " 2          thumbs_ups            0.091843\n",
       " 4        add_playlist            0.079476\n",
       " 6          daily_song            0.070926\n",
       " 3        thumbs_downs            0.064037\n",
       " 8    session_duration            0.062564\n",
       " 1             friends            0.058484\n",
       " 7        session_song            0.045797\n",
       " 12        agent_index            0.035539\n",
       " 10       gender_index            0.026889\n",
       " 9          downgraded            0.011889\n",
       " 11  valid_level_index            0.004627}"
      ]
     },
     "execution_count": 60,
     "metadata": {},
     "output_type": "execute_result"
    }
   ],
   "source": [
    "rf = RandomForestClassifier(labelCol=\"label\", featuresCol=\"exp_features\")\n",
    "result_rf = model_eval(rf, rest, validation, verbose=True)\n",
    "result_rf"
   ]
  },
  {
   "cell_type": "markdown",
   "metadata": {},
   "source": [
    "#### Gradient boosted tree model"
   ]
  },
  {
   "cell_type": "code",
   "execution_count": 61,
   "metadata": {},
   "outputs": [
    {
     "name": "stdout",
     "output_type": "stream",
     "text": [
      "The F1 score on the train set is 99.47%\n",
      "The F1 score on the test set is 68.04%\n",
      "The areaUnderROC on the train set is 100.00%\n",
      "The areaUnderROC on the test set is 64.58%\n"
     ]
    },
    {
     "data": {
      "image/png": "[encoded data removed]",
      "text/plain": [
       "<matplotlib.figure.Figure at 0x7fdbc5961f28>"
      ]
     },
     "metadata": {
      "needs_background": "light"
     },
     "output_type": "display_data"
    },
    {
     "data": {
      "text/plain": [
       "{'f1_score_rest': 0.9947416133215556,\n",
       " 'f1_score_val': 0.6804298642533937,\n",
       " 'roc_value_rest': 1.0,\n",
       " 'roc_value_val': 0.6458333333333334,\n",
       " 'model_FI':               Feature  FeatureImportances\n",
       " 0     registered_days            0.223323\n",
       " 1             friends            0.169686\n",
       " 4        add_playlist            0.101518\n",
       " 2          thumbs_ups            0.100753\n",
       " 6          daily_song            0.095390\n",
       " 5         roll_advert            0.086766\n",
       " 3        thumbs_downs            0.062618\n",
       " 7        session_song            0.060988\n",
       " 12        agent_index            0.042665\n",
       " 11  valid_level_index            0.020857\n",
       " 10       gender_index            0.020020\n",
       " 8    session_duration            0.015416\n",
       " 9          downgraded            0.000000}"
      ]
     },
     "execution_count": 61,
     "metadata": {},
     "output_type": "execute_result"
    }
   ],
   "source": [
    "# Initialize Gradient-Boosted Tree object\n",
    "gbt = GBTClassifier(labelCol=\"label\", featuresCol=\"exp_features\", maxIter=10)\n",
    "result_gbt = model_eval(gbt, rest, validation, verbose=True)\n",
    "result_gbt"
   ]
  },
  {
   "cell_type": "markdown",
   "metadata": {},
   "source": [
    "#### Hyperparameter tuning (Future Steps)\n"
   ]
  },
  {
   "cell_type": "code",
   "execution_count": 62,
   "metadata": {},
   "outputs": [],
   "source": [
    "# evaluate model\n",
    "# rfevaluator = RegressionEvaluator(predictionCol=\"prediction\", labelCol=\"label\", metricName=\"rmse\")\n",
    "\n",
    "# create ParamGrid for Cross Validation\n",
    "# rfparamGrid = (ParamGridBuilder()\n",
    "#              .addGrid(rf.maxDepth, [2, 5, 10, 20, 30])\n",
    "             #  .addGrid(rf.maxDepth, [2, 5, 10])\n",
    "#              .addGrid(rf.maxBins, [10, 20, 40, 80, 100])\n",
    "             #  .addGrid(rf.maxBins, [5, 10, 20])\n",
    "#              .addGrid(rf.numTrees, [5, 20, 50, 100, 500])\n",
    "             #  .addGrid(rf.numTrees, [5, 20, 50])\n",
    "#              .build())\n",
    "\n",
    "# create 5-fold CrossValidator\n",
    "# rfcv = CrossValidator(estimator = rf,\n",
    "#                       estimatorParamMaps = rfparamGrid,\n",
    "#                       evaluator = rfevaluator,\n",
    "#                       numFolds = 5)\n",
    "# result_rfcv = model_eval(rfcv, rest, validation, verbose=True)\n",
    "# result_rfcv"
   ]
  },
  {
   "cell_type": "markdown",
   "metadata": {},
   "source": [
    "# Final Steps\n",
    "Clean up your code, adding comments and renaming variables to make the code easier to read and maintain. Refer to the Spark Project Overview page and Data Scientist Capstone Project Rubric to make sure you are including all components of the capstone project and meet all expectations. Remember, this includes thorough documentation in a README file in a Github repository, as well as a web app or blog post."
   ]
  }
 ],
 "metadata": {
  "kernelspec": {
   "display_name": "Python 3",
   "language": "python",
   "name": "python3"
  },
  "language_info": {
   "codemirror_mode": {
    "name": "ipython",
    "version": 3
   },
   "file_extension": ".py",
   "mimetype": "text/x-python",
   "name": "python",
   "nbconvert_exporter": "python",
   "pygments_lexer": "ipython3",
   "version": "3.6.3"
  }
 },
 "nbformat": 4,
 "nbformat_minor": 2
}
